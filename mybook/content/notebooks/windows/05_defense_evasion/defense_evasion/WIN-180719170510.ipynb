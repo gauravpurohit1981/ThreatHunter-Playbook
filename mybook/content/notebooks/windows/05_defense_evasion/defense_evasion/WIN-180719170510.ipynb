{
 "cells": [
  {
   "cell_type": "markdown",
   "metadata": {},
   "source": [
    "# DLL Injection via CreateRemoteThread and LoadLibrary"
   ]
  },
  {
   "cell_type": "markdown",
   "metadata": {},
   "source": [
    "## Metadata"
   ]
  },
  {
   "cell_type": "markdown",
   "metadata": {},
   "source": [
    "\n",
    "|               |    |\n",
    "|:--------------|:---|\n",
    "| id            | WIN-180719170510 |\n",
    "| author        | Roberto Rodriguez @Cyb3rWard0g |\n",
    "| creation date | 2018/07/19 |\n",
    "| platform      | Windows |\n",
    "| playbook link |  |\n",
    "        "
   ]
  },
  {
   "cell_type": "markdown",
   "metadata": {},
   "source": [
    "## Technical Description\n",
    "This technique is one of the most common techniques used to inject malware into another process.\n",
    "The malware writes the path to its malicious dynamic-link library (DLL) in the virtual address space of another process, and ensures the remote process loads it by creating a remote thread in the target process.\n",
    "\n",
    "### Get Handle to Target Processs\n",
    "The malware first needs to target a process for injection (e.g. svchost.exe).\n",
    "This is usually done by searching through processes by calling a trio of Application Program Interfaces (APIs) > CreateToolhelp32Snapshot, Process32First, and Process32Next.\n",
    "After finding the target process, the malware gets the handle of the target process by calling OpenProcess.\n",
    "\n",
    "There are two processes involved in this attack > your DLLInjector process (Process A), and the remote process you want to inject with a DLL (Process B).\n",
    "To interact with the remote process, Process A must call OpenProcess() while passing the remote process’s process ID as an argument. OpenProcess will then return to Process A a Handle to Process B.\n",
    "Having a Handle to the remote process allows Process A to interact with it in powerful ways. Process A can allocate memory, write memory, and create an execution thread in Process B by calling functions like VirtualAllocEx, WriteProcessMemory, and CreateRemoteThread and passing the Handle to Process B as an argument to those functions.\n",
    "\n",
    "### Get address of the LoadLibraryA function\n",
    "Kernel32.dll is loaded into every Windows process, and within it is a useful function called LoadLibrary.\n",
    "When LoadLibrary is called in a certain process, it maps a DLL into that process.\n",
    "LoadLibrary needs to know what DLL to load, so you need to provide it the path to the DLL on your system.\n",
    "LoadLibrary will then find the DLL at that path and load that DLL into memory for you.\n",
    "Note > LoadLibraryA is the function name. “A” means you provide the DLL path as an ASCII string.\n",
    "\n",
    "### Allocate Memory for DLL\n",
    "Why do we write the DLL path to Process B using VirtualAllocEx and then WriteRemoteMemory? This is because LoadLibrary needs to know what DLL you want to inject.\n",
    "The string it accepts as a parameter needs to be present in Process B’s memory.\n",
    "The malware calls VirtualAllocEx to have a space to write the path to its DLL.\n",
    "The malware then calls WriteProcessMemory to write the path in the allocated memory.\n",
    "\n",
    "### Execute Code\n",
    "Finally, to have the code executed in another process, the malware calls APIs such as CreateRemoteThread, NtCreateThreadEx, or RtlCreateUserThread.\n",
    "The latter two are undocumented. However, the general idea is to pass the address of LoadLibrary to one of these APIs so that a remote process has to execute the DLL on behalf of the malware.\n",
    "The CreateRemoteThread function creates a thread in the virtual address space of an arbitrary process.\n",
    "\n",
    "Use CreateRemoteThread to create a remote thread starting at the memory address (which means this will execute LoadLibrary in the remote process).\n",
    "Besides the memory address of the remote function you want to call, CreateRemoteThread also allows you to provide an argument for the function if it requires one.\n",
    "LoadLibrary wants the memory address of where you wrote that DLL path from earlier, so provide CreateRemoteThread that address as well."
   ]
  },
  {
   "cell_type": "markdown",
   "metadata": {},
   "source": [
    "## Hypothesis\n",
    "Adversaries might be injecting a dll to another process to execute code via CreateRemoteThread and LoadLibrary functions."
   ]
  },
  {
   "cell_type": "markdown",
   "metadata": {},
   "source": [
    "## Analytics"
   ]
  },
  {
   "cell_type": "markdown",
   "metadata": {},
   "source": [
    "### Initialize Analytics Engine"
   ]
  },
  {
   "cell_type": "code",
   "execution_count": null,
   "metadata": {},
   "outputs": [],
   "source": [
    "from openhunt.mordorutils import *\n",
    "spark = get_spark()"
   ]
  },
  {
   "cell_type": "markdown",
   "metadata": {},
   "source": [
    "### Download & Process Mordor File"
   ]
  },
  {
   "cell_type": "code",
   "execution_count": null,
   "metadata": {},
   "outputs": [],
   "source": [
    "mordor_file = \"https://raw.githubusercontent.com/hunters-forge/mordor/master/datasets/small/windows/defense_evasion/empire_dll_injection.tar.gz\"\n",
    "registerMordorSQLTable(spark, mordor_file, \"mordorTable\")"
   ]
  },
  {
   "cell_type": "markdown",
   "metadata": {},
   "source": [
    "### Analytic I"
   ]
  },
  {
   "cell_type": "markdown",
   "metadata": {},
   "source": [
    "\n",
    "| FP Rate  | Log Channel | Description   |\n",
    "| :--------| :-----------| :-------------|\n",
    "| High       | ['Microsoft-Windows-Sysmon/Operational']          | Look for any use of the CreateRemoteThread function to create a remote thread starting at the memory address (which means this will execute LoadLibrary in the remote process)            |\n",
    "            "
   ]
  },
  {
   "cell_type": "code",
   "execution_count": null,
   "metadata": {},
   "outputs": [],
   "source": [
    "df = spark.sql(\n",
    "    '''\n",
    "SELECT `@timestamp`, computer_name, SourceImage, TargetImage\n",
    "FROM mordorTable\n",
    "WHERE channel = \"Microsoft-Windows-Sysmon/Operational\"\n",
    "    AND event_id = 8\n",
    "    AND lower(StartModule) LIKE \"%kernel32.dll\"\n",
    "    AND StartFunction = \"LoadLibraryA\"\n",
    "    '''\n",
    ")\n",
    "df.show(10,False)"
   ]
  },
  {
   "cell_type": "markdown",
   "metadata": {},
   "source": [
    "### Analytic II"
   ]
  },
  {
   "cell_type": "markdown",
   "metadata": {},
   "source": [
    "\n",
    "| FP Rate  | Log Channel | Description   |\n",
    "| :--------| :-----------| :-------------|\n",
    "| Medium       | ['Microsoft-Windows-Sysmon/Operational']          | You can look for the same file being created and loaded. The process that creates the file and loads the file are not the same.            |\n",
    "            "
   ]
  },
  {
   "cell_type": "code",
   "execution_count": null,
   "metadata": {},
   "outputs": [],
   "source": [
    "df = spark.sql(\n",
    "    '''\n",
    "SELECT f.`@timestamp` AS file_date, m.`@timestamp` AS module_date, f.computer_name, f.Image AS file_image, m.Image AS module_image, m.ImageLoaded, f.TargetFilename\n",
    "FROM mordorTable f\n",
    "INNER JOIN (\n",
    "    SELECT `@timestamp`,computer_name,Image,ImageLoaded,TargetLogonId,IpAddress\n",
    "    FROM mordorTable\n",
    "    WHERE channel = \"Microsoft-Windows-Sysmon/Operational\"\n",
    "        AND event_id = 7\n",
    "    ) m\n",
    "ON f.TargetFilename = m.ImageLoaded\n",
    "WHERE f.channel = \"Microsoft-Windows-Sysmon/Operational\"\n",
    "    AND f.event_id = 11\n",
    "    AND f.computer_name = m.computer_name\n",
    "    '''\n",
    ")\n",
    "df.show(10,False)"
   ]
  },
  {
   "cell_type": "markdown",
   "metadata": {},
   "source": [
    "## Detection Blindspots\n",
    "Instead of passing the address of the LoadLibrary, adversaries can copy the malicious code into an existing open process and cause it to execute (either via a small shellcode, or by calling CreateRemoteThread) via a technique known as PE injection.\n",
    "The advantage of this is that the adversary does not have to drop a malicious DLL on the disk.\n",
    "Similar to the basic dll injection technique, the malware allocates memory in a host process (e.g. VirtualAllocEx), and instead of writing a “DLL path” it writes its malicious code by calling WriteProcessMemory."
   ]
  },
  {
   "cell_type": "markdown",
   "metadata": {},
   "source": [
    "## Hunter Notes\n",
    "* Looking for CreateRemoteThread APIs with LoadLibrary functions might return several entries in your environment. I recommend to stack the values of the source and target processes or user to baseline your environmennt.\n",
    "* Look for processes loading files that have just been created on disk (i.e 1min time window). Stack the values of the processes and files involved. You can tag the files as signed or unsigned depending on the information provided in the security events."
   ]
  },
  {
   "cell_type": "markdown",
   "metadata": {},
   "source": [
    "## Hunt Output\n",
    "\n",
    "| Category | Type | Name     |\n",
    "| :--------| :----| :--------|\n",
    "| signature | SIGMA | [sysmon_createremotethread_loadlibrary](https://github.com/Cyb3rWard0g/ThreatHunter-Playbook/tree/master/signatures/sigma/sysmon_createremotethread_loadlibrary.yml) |"
   ]
  },
  {
   "cell_type": "markdown",
   "metadata": {},
   "source": [
    "## References\n",
    "* https://www.endgame.com/blog/technical-blog/ten-process-injection-techniques-technical-survey-common-and-trending-process\n",
    "* https://resources.infosecinstitute.com/using-createremotethread-for-dll-injection-on-windows/\n",
    "* https://arvanaghi.com/blog/dll-injection-using-loadlibrary-in-C/\n",
    "* https://github.com/EmpireProject/Empire/blob/master/data/module_source/code_execution/Invoke-DllInjection.ps1#L249\n",
    "* https://github.com/EmpireProject/Empire/blob/master/data/module_source/code_execution/Invoke-DllInjection.ps1#L291\n",
    "* https://github.com/EmpireProject/Empire/blob/master/data/module_source/code_execution/Invoke-DllInjection.ps1#L295\n",
    "* https://github.com/EmpireProject/Empire/blob/master/data/module_source/code_execution/Invoke-DllInjection.ps1#L303\n",
    "* https://github.com/EmpireProject/Empire/blob/master/data/module_source/code_execution/Invoke-DllInjection.ps1#L307\n",
    "* https://docs.microsoft.com/en-us/windows/win32/api/libloaderapi/nf-libloaderapi-loadlibrarya"
   ]
  }
 ],
 "metadata": {},
 "nbformat": 4,
 "nbformat_minor": 2
}
