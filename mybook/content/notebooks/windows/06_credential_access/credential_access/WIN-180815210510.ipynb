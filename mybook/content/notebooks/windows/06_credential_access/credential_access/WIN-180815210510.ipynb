{
 "cells": [
  {
   "cell_type": "markdown",
   "metadata": {},
   "source": [
    "# Active Directory Replication From Non-Domain-Controller Accounts"
   ]
  },
  {
   "cell_type": "markdown",
   "metadata": {},
   "source": [
    "## Metadata"
   ]
  },
  {
   "cell_type": "markdown",
   "metadata": {},
   "source": [
    "\n",
    "|               |    |\n",
    "|:--------------|:---|\n",
    "| id            | WIN-180815210510 |\n",
    "| author        | Roberto Rodriguez @Cyb3rWard0g |\n",
    "| creation date | 2018/08/15 |\n",
    "| platform      | Windows |\n",
    "| playbook link |  |\n",
    "        "
   ]
  },
  {
   "cell_type": "markdown",
   "metadata": {},
   "source": [
    "## Technical Description\n",
    "Active Directory replication is the process by which the changes that originate on one domain controller are automatically transferred to other domain controllers that store the same data.\n",
    "Active Directory data takes the form of objects that have properties, or attributes. Each object is an instance of an object class, and object classes and their respective attributes are defined in the Active Directory schema.\n",
    "The values of the attributes define the object, and a change to a value of an attribute must be transferred from the domain controller on which it occurs to every other domain controller that stores a replica of that object.\n",
    "An adversary can abuse this model and request information about a specific account via the replication request.\n",
    "This is done from an account with sufficient permissions (usually domain admin level) to perform that request.\n",
    "Usually the accounts performing replication operations in a domain are computer accounts (i.e dcaccount$).\n",
    "Therefore, it might be abnormal to see other non-dc-accounts doing it.\n",
    "\n",
    "Additional reading\n",
    "* https://github.com/hunters-forge/ThreatHunter-Playbook/tree/master/docs/content/library/active_directory_replication.md"
   ]
  },
  {
   "cell_type": "markdown",
   "metadata": {},
   "source": [
    "## Hypothesis\n",
    "Adversaries might attempt to pull the NTLM hash of a user via active directory replication apis from a non-domain-controller account with permissions to do so."
   ]
  },
  {
   "cell_type": "markdown",
   "metadata": {},
   "source": [
    "## Analytics"
   ]
  },
  {
   "cell_type": "markdown",
   "metadata": {},
   "source": [
    "### Initialize Analytics Engine"
   ]
  },
  {
   "cell_type": "code",
   "execution_count": null,
   "metadata": {},
   "outputs": [],
   "source": [
    "from openhunt.mordorutils import *\n",
    "spark = get_spark()"
   ]
  },
  {
   "cell_type": "markdown",
   "metadata": {},
   "source": [
    "### Download & Process Mordor File"
   ]
  },
  {
   "cell_type": "code",
   "execution_count": null,
   "metadata": {},
   "outputs": [],
   "source": [
    "mordor_file = \"https://raw.githubusercontent.com/hunters-forge/mordor/master/datasets/small/windows/credential_access/empire_dcsync.tar.gz\"\n",
    "registerMordorSQLTable(spark, mordor_file, \"mordorTable\")"
   ]
  },
  {
   "cell_type": "markdown",
   "metadata": {},
   "source": [
    "### Analytic I"
   ]
  },
  {
   "cell_type": "markdown",
   "metadata": {},
   "source": [
    "\n",
    "| FP Rate  | Log Channel | Description   |\n",
    "| :--------| :-----------| :-------------|\n",
    "| Low       | ['Security']          | Monitoring for non-dc machine accounts accessing active directory objects on domain controllers with replication rights might be suspicious            |\n",
    "            "
   ]
  },
  {
   "cell_type": "code",
   "execution_count": null,
   "metadata": {},
   "outputs": [],
   "source": [
    "df = spark.sql(\n",
    "    '''\n",
    "SELECT `@timestamp`, computer_name, SubjectUserName, SubjectLogonId\n",
    "FROM mordorTable\n",
    "WHERE channel = \"Security\"\n",
    "    AND event_id = 4662\n",
    "    AND AccessMask = \"0x100\"\n",
    "    AND (\n",
    "        Properties LIKE \"%1131f6aa_9c07_11d1_f79f_00c04fc2dcd2%\"\n",
    "        OR Properties LIKE \"%1131f6ad_9c07_11d1_f79f_00c04fc2dcd2%\"\n",
    "        OR Properties LIKE \"%89e95b76_444d_4c62_991a_0facbeda640c%\"\n",
    "    )\n",
    "    AND NOT SubjectUserName LIKE \"%$\"\n",
    "    '''\n",
    ")\n",
    "df.show(10,False)"
   ]
  },
  {
   "cell_type": "markdown",
   "metadata": {},
   "source": [
    "### Analytic II"
   ]
  },
  {
   "cell_type": "markdown",
   "metadata": {},
   "source": [
    "\n",
    "| FP Rate  | Log Channel | Description   |\n",
    "| :--------| :-----------| :-------------|\n",
    "| Low       | ['Security']          | You can use successful authentication events on the domain controller to get information about the source of the AD Replication Service request            |\n",
    "            "
   ]
  },
  {
   "cell_type": "code",
   "execution_count": null,
   "metadata": {},
   "outputs": [],
   "source": [
    "df = spark.sql(\n",
    "    '''\n",
    "SELECT o.`@timestamp`, o.computer_name, o.SubjectUserName, o.SubjectLogonId, a.IpAddress\n",
    "FROM mordorTable o\n",
    "INNER JOIN (\n",
    "    SELECT computer_name,TargetUserName,TargetLogonId,IpAddress\n",
    "    FROM mordorTable\n",
    "    WHERE channel = \"Security\"\n",
    "        AND event_id = 4624\n",
    "        AND LogonType = 3\n",
    "        AND IpAddress is not null\n",
    "        AND NOT TargetUserName LIKE \"%$\"\n",
    "    ) a\n",
    "ON o.SubjectLogonId = a.TargetLogonId\n",
    "WHERE o.channel = \"Security\"\n",
    "    AND o.event_id = 4662\n",
    "    AND o.AccessMask = \"0x100\"\n",
    "    AND (\n",
    "        o.Properties LIKE \"%1131f6aa_9c07_11d1_f79f_00c04fc2dcd2%\"\n",
    "        OR o.Properties LIKE \"%1131f6ad_9c07_11d1_f79f_00c04fc2dcd2%\"\n",
    "        OR o.Properties LIKE \"%89e95b76_444d_4c62_991a_0facbeda640c%\"\n",
    "    )\n",
    "    AND o.computer_name = a.computer_name\n",
    "    AND NOT o.SubjectUserName LIKE \"%$\"\n",
    "    '''\n",
    ")\n",
    "df.show(10,False)"
   ]
  },
  {
   "cell_type": "markdown",
   "metadata": {},
   "source": [
    "## Detection Blindspots\n",
    "Adversaries could perform the replication request from a Domain Controller (DC) and with the DC machine account (*$) to make it look like usual/common replication activity."
   ]
  },
  {
   "cell_type": "markdown",
   "metadata": {},
   "source": [
    "## Hunter Notes\n",
    "* As stated before, when an adversary utilizes directory replication services to connect to a DC, a RPC Client call operation with the RPC Interface GUID of E3514235-4B06-11D1-AB04-00C04FC2DCD2 is performed pointing to the targeted DC. This activity is recorded at the source endpoint, from where the replication request is being performed from, via the Microsoft-Windows-RPC ETW provider. Even though the Microsoft-Windows-RPC ETW provider provides great visibility for replication operations at the source endpoint level, it does not have an event tracing session writing events to an .evtx file which does not make it practical to use it at scale yet.\n",
    "* You can collect information from the Microsoft-Windows-RPC ETW provider and filter on RPC Interface GUID E3514235-4B06-11D1-AB04-00C04FC2DCD2 with SilkETW. One example here > https://twitter.com/FuzzySec/status/1127249052175872000\n",
    "* You can correlate security events 4662 and 4624 (Logon Type 3) by their Logon ID on the Domain Controller (DC) that received the replication request. This will tell you where the AD replication request came from. This will also allow you to know if it came from another DC or not."
   ]
  },
  {
   "cell_type": "markdown",
   "metadata": {},
   "source": [
    "## Hunt Output\n",
    "\n",
    "| Category | Type | Name     |\n",
    "| :--------| :----| :--------|\n",
    "| signature | SIGMA | [win_ad_replication_non_machine_account](https://github.com/Cyb3rWard0g/ThreatHunter-Playbook/tree/master/signatures/sigma/win_ad_replication_non_machine_account.yml) |"
   ]
  },
  {
   "cell_type": "markdown",
   "metadata": {},
   "source": [
    "## References\n",
    "* https://docs.microsoft.com/en-us/openspecs/windows_protocols/ms-adts/1522b774-6464-41a3-87a5-1e5633c3fbbb\n",
    "* https://docs.microsoft.com/en-us/windows/desktop/adschema/c-domain\n",
    "* https://docs.microsoft.com/en-us/windows/desktop/adschema/c-domaindns\n",
    "* http://www.harmj0y.net/blog/redteaming/a-guide-to-attacking-domain-trusts/\n",
    "* https://docs.microsoft.com/en-us/previous-versions/windows/it-pro/windows-server-2003/cc782376(v=ws.10)\n",
    "* https://docs.microsoft.com/en-us/openspecs/windows_protocols/ms-drsr/f977faaa-673e-4f66-b9bf-48c640241d47"
   ]
  }
 ],
 "metadata": {},
 "nbformat": 4,
 "nbformat_minor": 2
}
