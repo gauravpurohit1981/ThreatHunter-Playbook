{
 "cells": [
  {
   "cell_type": "markdown",
   "metadata": {},
   "source": [
    "# Remote Interactive Task Manager LSASS Dump"
   ]
  },
  {
   "cell_type": "markdown",
   "metadata": {},
   "source": [
    "## Metadata"
   ]
  },
  {
   "cell_type": "markdown",
   "metadata": {},
   "source": [
    "\n",
    "|               |    |\n",
    "|:--------------|:---|\n",
    "| id            | WIN-191030201010 |\n",
    "| author        | Roberto Rodriguez @Cyb3rWard0g |\n",
    "| creation date | 2019/10/30 |\n",
    "| platform      | Windows |\n",
    "| playbook link | WIN-1904101010 |\n",
    "        "
   ]
  },
  {
   "cell_type": "markdown",
   "metadata": {},
   "source": [
    "## Technical Description\n",
    "The Windows Task Manager may be used to dump the memory space of lsass.exe to disk for processing with a credential access tool such as Mimikatz.\n",
    "This is performed by launching Task Manager as a privileged user, selecting lsass.exe, and clicking “Create dump file”.\n",
    "This saves a dump file to disk with a deterministic name that includes the name of the process being dumped."
   ]
  },
  {
   "cell_type": "markdown",
   "metadata": {},
   "source": [
    "## Hypothesis\n",
    "Adversaries might be RDPing to computers in my environment and interactively dumping the memory contents of LSASS with task manager."
   ]
  },
  {
   "cell_type": "markdown",
   "metadata": {},
   "source": [
    "## Analytics"
   ]
  },
  {
   "cell_type": "markdown",
   "metadata": {},
   "source": [
    "### Initialize Analytics Engine"
   ]
  },
  {
   "cell_type": "code",
   "execution_count": null,
   "metadata": {},
   "outputs": [],
   "source": [
    "from openhunt.mordorutils import *\n",
    "spark = get_spark()"
   ]
  },
  {
   "cell_type": "markdown",
   "metadata": {},
   "source": [
    "### Download & Process Mordor File"
   ]
  },
  {
   "cell_type": "code",
   "execution_count": null,
   "metadata": {},
   "outputs": [],
   "source": [
    "mordor_file = \"https://raw.githubusercontent.com/hunters-forge/mordor/master/datasets/small/windows/credential_access/remoteinteractive_taskmngr_lsass_dump.tar.gz\"\n",
    "registerMordorSQLTable(spark, mordor_file, \"mordorTable\")"
   ]
  },
  {
   "cell_type": "markdown",
   "metadata": {},
   "source": [
    "### Analytic I"
   ]
  },
  {
   "cell_type": "markdown",
   "metadata": {},
   "source": [
    "\n",
    "| FP Rate  | Log Channel | Description   |\n",
    "| :--------| :-----------| :-------------|\n",
    "| Medium       | ['Microsoft-Windows-Sysmon/Operational']          | Look for taskmgr creating files which name contains the string lsass and with extension .dmp.            |\n",
    "            "
   ]
  },
  {
   "cell_type": "code",
   "execution_count": null,
   "metadata": {},
   "outputs": [],
   "source": [
    "df = spark.sql(\n",
    "    '''\n",
    "SELECT `@timestamp`, computer_name, Image, TargetFilename, ProcessGuid\n",
    "FROM mordorTable\n",
    "WHERE channel = \"Microsoft-Windows-Sysmon/Operational\"\n",
    "    AND event_id = 11\n",
    "    AND Image LIKE \"%taskmgr.exe\"\n",
    "    AND lower(TargetFilename) RLIKE \".*lsass.*\\.dmp\"\n",
    "    '''\n",
    ")\n",
    "df.show(10,False)"
   ]
  },
  {
   "cell_type": "markdown",
   "metadata": {},
   "source": [
    "### Analytic II"
   ]
  },
  {
   "cell_type": "markdown",
   "metadata": {},
   "source": [
    "\n",
    "| FP Rate  | Log Channel | Description   |\n",
    "| :--------| :-----------| :-------------|\n",
    "| Medium       | ['Microsoft-Windows-Sysmon/Operational']          | Look for task manager access lsass and with functions from dbgcore.dll or dbghelp.dll libraries            |\n",
    "            "
   ]
  },
  {
   "cell_type": "code",
   "execution_count": null,
   "metadata": {},
   "outputs": [],
   "source": [
    "df = spark.sql(\n",
    "    '''\n",
    "SELECT `@timestamp`, computer_name, SourceImage, TargetImage, GrantedAccess\n",
    "FROM mordorTable\n",
    "WHERE channel = \"Microsoft-Windows-Sysmon/Operational\"\n",
    "    AND event_id = 10\n",
    "    AND lower(SourceImage) LIKE \"%taskmgr.exe\"\n",
    "    AND lower(TargetImage) LIKE \"%lsass.exe\"\n",
    "    AND (lower(CallTrace) RLIKE \".*dbgcore\\.dll.*\" OR lower(CallTrace) RLIKE \".*dbghelp\\.dll.*\")\n",
    "    '''\n",
    ")\n",
    "df.show(10,False)"
   ]
  },
  {
   "cell_type": "markdown",
   "metadata": {},
   "source": [
    "### Analytic III"
   ]
  },
  {
   "cell_type": "markdown",
   "metadata": {},
   "source": [
    "\n",
    "| FP Rate  | Log Channel | Description   |\n",
    "| :--------| :-----------| :-------------|\n",
    "| Medium       | ['Microsoft-Windows-Sysmon/Operational']          | Look for any process accessing lsass and with functions from dbgcore.dll or dbghelp.dll libraries            |\n",
    "            "
   ]
  },
  {
   "cell_type": "code",
   "execution_count": null,
   "metadata": {},
   "outputs": [],
   "source": [
    "df = spark.sql(\n",
    "    '''\n",
    "SELECT `@timestamp`, computer_name, SourceImage, TargetImage, GrantedAccess\n",
    "FROM mordorTable\n",
    "WHERE channel = \"Microsoft-Windows-Sysmon/Operational\"\n",
    "    AND event_id = 10\n",
    "    AND lower(TargetImage) LIKE \"%lsass.exe\"\n",
    "    AND (lower(CallTrace) RLIKE \".*dbgcore\\.dll.*\" OR lower(CallTrace) RLIKE \".*dbghelp\\.dll.*\")\n",
    "    '''\n",
    ")\n",
    "df.show(10,False)"
   ]
  },
  {
   "cell_type": "markdown",
   "metadata": {},
   "source": [
    "### Analytic IV"
   ]
  },
  {
   "cell_type": "markdown",
   "metadata": {},
   "source": [
    "\n",
    "| FP Rate  | Log Channel | Description   |\n",
    "| :--------| :-----------| :-------------|\n",
    "| Low       | ['Microsoft-Windows-Sysmon/Operational']          | Look for combinations of process access and process creation to get more context around potential lsass dump form task manager or other binaries            |\n",
    "            "
   ]
  },
  {
   "cell_type": "code",
   "execution_count": null,
   "metadata": {},
   "outputs": [],
   "source": [
    "df = spark.sql(\n",
    "    '''\n",
    "SELECT o.`@timestamp`, o.computer_name, o.Image, o.LogonId, o.ProcessGuid, a.SourceProcessGUID, o.CommandLine\n",
    "FROM mordorTable o\n",
    "INNER JOIN (\n",
    "    SELECT computer_name,SourceProcessGUID\n",
    "    FROM mordorTable\n",
    "    WHERE channel = \"Microsoft-Windows-Sysmon/Operational\"\n",
    "        AND event_id = 10\n",
    "        AND lower(TargetImage) LIKE \"%lsass.exe\"\n",
    "        AND (lower(CallTrace) RLIKE \".*dbgcore\\.dll.*\" OR lower(CallTrace) RLIKE \".*dbghelp\\.dll.*\")\n",
    "    ) a\n",
    "ON o.ProcessGuid = a.SourceProcessGUID\n",
    "WHERE o.channel = \"Microsoft-Windows-Sysmon/Operational\"\n",
    "    AND o.event_id = 1\n",
    "    '''\n",
    ")\n",
    "df.show(10,False)"
   ]
  },
  {
   "cell_type": "markdown",
   "metadata": {},
   "source": [
    "### Analytic V"
   ]
  },
  {
   "cell_type": "markdown",
   "metadata": {},
   "source": [
    "\n",
    "| FP Rate  | Log Channel | Description   |\n",
    "| :--------| :-----------| :-------------|\n",
    "| Low       | ['Microsoft-Windows-Sysmon/Operational', 'Security']          | Look for binaries accessing lsass that are running under the same logon context of a user over an RDP session            |\n",
    "            "
   ]
  },
  {
   "cell_type": "code",
   "execution_count": null,
   "metadata": {},
   "outputs": [],
   "source": [
    "df = spark.sql(\n",
    "    '''\n",
    "SELECT o.`@timestamp`, o.computer_name, o.SessionName, o.AccountName, o.ClientName, o.ClientAddress, a.Image, a.CommandLine\n",
    "FROM mordorTable o\n",
    "INNER JOIN (\n",
    "    SELECT LogonId, Image, CommandLine\n",
    "    FROM (\n",
    "        SELECT o.Image, o.LogonId, o.CommandLine\n",
    "        FROM mordorTable o\n",
    "        INNER JOIN (\n",
    "            SELECT computer_name,SourceProcessGUID\n",
    "            FROM mordorTable\n",
    "            WHERE channel = \"Microsoft-Windows-Sysmon/Operational\"\n",
    "                AND event_id = 10\n",
    "                AND lower(TargetImage) LIKE \"%lsass.exe\"\n",
    "                AND (lower(CallTrace) RLIKE \".*dbgcore\\.dll.*\" OR lower(CallTrace) RLIKE \".*dbghelp\\.dll.*\")\n",
    "            ) a\n",
    "        ON o.ProcessGuid = a.SourceProcessGUID\n",
    "        WHERE o.channel = \"Microsoft-Windows-Sysmon/Operational\"\n",
    "            AND o.event_id = 1\n",
    "        )\n",
    "    ) a\n",
    "ON o.LogonID = a.LogonId\n",
    "WHERE lower(o.channel) = \"security\"\n",
    "    AND o.event_id = 4778\n",
    "    '''\n",
    ")\n",
    "df.show(10,False)"
   ]
  },
  {
   "cell_type": "markdown",
   "metadata": {},
   "source": [
    "## Detection Blindspots\n"
   ]
  },
  {
   "cell_type": "markdown",
   "metadata": {},
   "source": [
    "## Hunter Notes\n",
    "* Add context to your queries by joining RDP remote interactive authentication events by the logon ID."
   ]
  },
  {
   "cell_type": "markdown",
   "metadata": {},
   "source": [
    "## Hunt Output\n"
   ]
  },
  {
   "cell_type": "markdown",
   "metadata": {},
   "source": [
    "## References\n",
    "* https://car.mitre.org/analytics/CAR-2019-08-001/"
   ]
  }
 ],
 "metadata": {},
 "nbformat": 4,
 "nbformat_minor": 2
}
