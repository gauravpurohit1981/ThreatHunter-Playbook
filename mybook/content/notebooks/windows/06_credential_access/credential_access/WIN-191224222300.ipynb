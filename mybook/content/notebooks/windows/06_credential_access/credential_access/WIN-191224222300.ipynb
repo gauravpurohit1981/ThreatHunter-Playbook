{
 "cells": [
  {
   "cell_type": "markdown",
   "metadata": {},
   "source": [
    "# Extended NetNTLM Downgrade"
   ]
  },
  {
   "cell_type": "markdown",
   "metadata": {},
   "source": [
    "## Metadata"
   ]
  },
  {
   "cell_type": "markdown",
   "metadata": {},
   "source": [
    "\n",
    "|               |    |\n",
    "|:--------------|:---|\n",
    "| id            | WIN-191224222300 |\n",
    "| author        | Roberto Rodriguez @Cyb3rWard0g |\n",
    "| creation date | 2019/12/24 |\n",
    "| platform      | Windows |\n",
    "| playbook link |  |\n",
    "        "
   ]
  },
  {
   "cell_type": "markdown",
   "metadata": {},
   "source": [
    "## Technical Description\n",
    "LAN Manager (LM) includes client computer and server software from Microsoft that allows users to link personal devices together on a single network.\n",
    "Network capabilities include transparent file and print sharing, user security features, and network administration tools.\n",
    "In Active Directory domains, the Kerberos protocol is the default authentication protocol.\n",
    "However, if the Kerberos protocol is not negotiated for some reason, Active Directory uses LM, NTLM, or NTLM version 2 (NTLMv2).\n",
    "\n",
    "LAN Manager authentication includes the LM, NTLM, and NTLMv2 variants, and it is the protocol that is used to authenticate all client devices running the Windows operating system when they perform the following operations:\n",
    "\n",
    "* Join a domain\n",
    "* Authenticate between Active Directory forests\n",
    "* Authenticate to domains based on earlier versions of the Windows operating system\n",
    "* Authenticate to computers that do not run Windows operating systems, beginning with Windows 2000\n",
    "* Authenticate to computers that are not in the domain\n",
    "\n",
    "Prior to Windows NT 4.0 Service Pack 4 (SP4), Windows NT supported two kinds of challenge/response authentication: LanManager (LM) challenge/response and Windows NT challenge/response (also known as NTLM challenge/response)\n",
    "Windows NT also supported session security mechanisms that provided for message confidentiality and integrity.\n",
    "To allow access to servers that only support LM authentication, Windows NT clients prior to SP4 always use both, even to Windows NT servers that supported NTLM authentication.\n",
    "\n",
    "LM authentication is not as strong as Windows NT authentication so some customers may want to disable its use, because an attacker eavesdropping on network traffic will attack the weaker protocol.\n",
    "A successful attack can compromise the user's password.\n",
    "Microsoft has developed an enhancement to NTLM called NTLMv2 that significantly improves both the authentication and session security mechanisms.\n",
    "\n",
    "In addition, the implementation of the NTLM Security Service Provider (SSP) has been enhanced to allow clients to control which variants of NTLM are used, and to allow servers to control which variants they will accept, by setting a new registry key appropriately.\n",
    "It also allows clients and servers to require the negotiation of message confidentiality (encryption), message integrity, 128-bit encryption, and NTLMv2 session security.\n",
    "\n",
    "Control of NTLM security is through the following registry key:\n",
    "\n",
    "* HKEY_LOCAL_MACHINE\\System\\CurrentControlSet\\control\\LSA\n",
    "\n",
    "Choice of the authentication protocol variants used and accepted is through the following value of that key:\n",
    "\n",
    "Value: LMCompatibilityLevel\n",
    "Value Type: REG_DWORD - Number\n",
    "Valid Range: 0-5\n",
    "Default: 0\n",
    "Description: This parameter specifies the type of authentication to be\n",
    "used.\n",
    "\n",
    "Level 0 - Send LM response and NTLM response; never use NTLMv2 session security\n",
    "Level 1 - Use NTLMv2 session security if negotiated\n",
    "Level 2 - Send NTLM authenication only\n",
    "Level 3 - Send NTLMv2 authentication  only\n",
    "Level 4 - DC refuses LM authentication\n",
    "Level 5 - DC refuses LM and NTLM authenication (accepts only NTLMv2)\n",
    "\n",
    "Control over the minimum security negotiated for applications using NTLMSSP is\n",
    "through the following key:\n",
    "\n",
    "* HKEY_LOCAL_MACHINE\\System\\CurrentControlSet\\control\\LSA\\MSV1_0\n",
    "\n",
    "The following values are for this key:\n",
    "\n",
    "  * Value: NtlmMinClientSec\n",
    "  * Value Type: REG_DWORD - Number\n",
    "  * Valid Range: the logical 'or' of any of the following values:\n",
    "    * 0x00000010\n",
    "    * 0x00000020\n",
    "    * 0x00080000\n",
    "    * 0x20000000\n",
    "  * Default: 0\n",
    "\n",
    "  * Value: NtlmMinServerSec\n",
    "  * Value Type: REG_DWORD - Number\n",
    "  * Valid Range: same as NtlmMinClientSec\n",
    "  * Default: 0\n",
    "  * Description: This parameter specifies the minimum security to be used.\n",
    "    * 0x00000010  Message integrity\n",
    "    * 0x00000020  Message confidentiality\n",
    "    * 0x00080000  NTLMv2 session security\n",
    "    * 0x20000000  128 bit encryption\n",
    "\n",
    "An adversary with administrator rights to a compromised endpoint could easily modify these settings and downgrade the challenge/response authentication protocol used for network logons and the minimum security negotiated for applications using NTLMSSP.\n",
    "This is very dangerous because it could enable NetNTLMv1 as a client on the compromised endpoit and make it authenticate to a rogue SMB server to capture the client’s response (an NTLM Hash).\n",
    "If an organization is already restricting outgoing NTLM traffic to remote servers, it can be easily disabled by modifying the following registry key Property and setting it to 0:\n",
    "  * Key: HKLM:\\SYSTEM\\CurrentControlSet\\Control\\Lsa\\MSV1_0\n",
    "  * Property: RestrictSendingNTLMTraffic"
   ]
  },
  {
   "cell_type": "markdown",
   "metadata": {},
   "source": [
    "## Hypothesis\n",
    "Adversaries might be downgrading the challenge/response authentication protocol used for network logons, the minimum security negotiated for applications using NTLMSSP, and security settings that restrict outgoing NTLM traffic to remote servers in my environment"
   ]
  },
  {
   "cell_type": "markdown",
   "metadata": {},
   "source": [
    "## Analytics"
   ]
  },
  {
   "cell_type": "markdown",
   "metadata": {},
   "source": [
    "### Initialize Analytics Engine"
   ]
  },
  {
   "cell_type": "code",
   "execution_count": null,
   "metadata": {},
   "outputs": [],
   "source": [
    "from openhunt.mordorutils import *\n",
    "spark = get_spark()"
   ]
  },
  {
   "cell_type": "markdown",
   "metadata": {},
   "source": [
    "### Download & Process Mordor File"
   ]
  },
  {
   "cell_type": "code",
   "execution_count": null,
   "metadata": {},
   "outputs": [],
   "source": [
    "mordor_file = \"https://raw.githubusercontent.com/hunters-forge/mordor/master/datasets/small/windows/credential_access/empire_extended_netntlm_downgrade.tar.gz\"\n",
    "registerMordorSQLTable(spark, mordor_file, \"mordorTable\")"
   ]
  },
  {
   "cell_type": "markdown",
   "metadata": {},
   "source": [
    "### Analytic I"
   ]
  },
  {
   "cell_type": "markdown",
   "metadata": {},
   "source": [
    "\n",
    "| FP Rate  | Log Channel | Description   |\n",
    "| :--------| :-----------| :-------------|\n",
    "| Low       | ['Security']          | Look for non-system accounts getting a handle and accessing \\REGISTRY\\MACHINE\\SYSTEM\\ControlSet001\\Control\\Lsa and \\REGISTRY\\MACHINE\\SYSTEM\\ControlSet001\\Control\\Lsa\\MSV1_0 registry keys from a non-lsass process            |\n",
    "            "
   ]
  },
  {
   "cell_type": "code",
   "execution_count": null,
   "metadata": {},
   "outputs": [],
   "source": [
    "df = spark.sql(\n",
    "    '''\n",
    "SELECT `@timestamp`, Hostname, SubjectUserName, ProcessName, ObjectName, AccessMask, EventID, SubjectLogonId\n",
    "FROM mordorTable\n",
    "WHERE Channel = \"security\"\n",
    "    AND EventID IN (4663, 4656)\n",
    "    AND ProcessName NOT LIKE \"%lsass.exe\"\n",
    "    AND SubjectLogonId != \"0x3e7\"\n",
    "    '''\n",
    ")\n",
    "df.show(10,False)"
   ]
  },
  {
   "cell_type": "markdown",
   "metadata": {},
   "source": [
    "### Analytic II"
   ]
  },
  {
   "cell_type": "markdown",
   "metadata": {},
   "source": [
    "\n",
    "| FP Rate  | Log Channel | Description   |\n",
    "| :--------| :-----------| :-------------|\n",
    "| Low       | ['Microsoft-Windows-Sysmon/Operational']          | Look for processes modifying the values of the following registry key properties LMCompatibilityLevel,NtlmMinClientSec and RestrictSendingNTLMTraffic            |\n",
    "            "
   ]
  },
  {
   "cell_type": "code",
   "execution_count": null,
   "metadata": {},
   "outputs": [],
   "source": [
    "df = spark.sql(\n",
    "    '''\n",
    "SELECT `@timestamp`, Hostname, SubjectUserName, ProcessName, ObjectName, OldValue, NewValue, SubjectLogonId\n",
    "FROM mordorTable\n",
    "WHERE Channel = \"security\"\n",
    "    AND EventID = 4657\n",
    "    AND ObjectValueName in (\"LMCompatibilityLevel\",\"NtlmMinClientSec\",\"RestrictSendingNTLMTraffic\")\n",
    "    '''\n",
    ")\n",
    "df.show(10,False)"
   ]
  },
  {
   "cell_type": "markdown",
   "metadata": {},
   "source": [
    "### Analytic III"
   ]
  },
  {
   "cell_type": "markdown",
   "metadata": {},
   "source": [
    "\n",
    "| FP Rate  | Log Channel | Description   |\n",
    "| :--------| :-----------| :-------------|\n",
    "| Low       | ['Security']          | Look for processes modifying the values of the following registry key properties LMCompatibilityLevel,NtlmMinClientSec and RestrictSendingNTLMTraffic            |\n",
    "            "
   ]
  },
  {
   "cell_type": "code",
   "execution_count": null,
   "metadata": {},
   "outputs": [],
   "source": [
    "df = spark.sql(\n",
    "    '''\n",
    "SELECT `@timestamp`, Hostname, Image, TargetObject, Details\n",
    "FROM mordorTable\n",
    "WHERE Channel = \"Microsoft-Windows-Sysmon/Operational\"\n",
    "    AND EventID = 13\n",
    "    AND (\n",
    "        TargetObject LIKE \"%LMCompatibilityLevel\" OR\n",
    "        TargetObject LIKE \"%NtlmMinClientSec\" OR\n",
    "        TargetObject LIKE \"%RestrictSendingNTLMTraffic\"\n",
    "    )\n",
    "    '''\n",
    ")\n",
    "df.show(10,False)"
   ]
  },
  {
   "cell_type": "markdown",
   "metadata": {},
   "source": [
    "## Detection Blindspots\n"
   ]
  },
  {
   "cell_type": "markdown",
   "metadata": {},
   "source": [
    "## Hunter Notes\n",
    "* Make sure you have audit rules (SACL) applied to \\REGISTRY\\MACHINE\\SYSTEM\\ControlSet001\\Control\\Lsa and \\REGISTRY\\MACHINE\\SYSTEM\\ControlSet001\\Control\\Lsa\\MSV1_0\n",
    "* You can take the ProcessId of the process that performed the downgrade and explore its parents."
   ]
  },
  {
   "cell_type": "markdown",
   "metadata": {},
   "source": [
    "## Hunt Output\n",
    "\n",
    "| Category | Type | Name     |\n",
    "| :--------| :----| :--------|\n",
    "| signature | SIGMA | [win_net_ntlm_downgrade](https://github.com/Neo23x0/sigma/blob/master/rules/windows/builtin/win_net_ntlm_downgrade.yml) |"
   ]
  },
  {
   "cell_type": "markdown",
   "metadata": {},
   "source": [
    "## References\n",
    "* https://shenaniganslabs.io/2019/01/14/Internal-Monologue.html\n",
    "* https://jeffpar.github.io/kbarchive/kb/147/Q147706/\n",
    "* https://docs.microsoft.com/en-us/windows/security/threat-protection/security-policy-settings/network-security-lan-manager-authentication-level\n",
    "* https://twitter.com/elad_shamir/status/975670116519063553\n",
    "* https://docs.microsoft.com/en-us/windows/security/threat-protection/security-policy-settings/network-security-restrict-ntlm-outgoing-ntlm-traffic-to-remote-servers\n",
    "* https://github.com/hunters-forge/Set-AuditRule/blob/master/registry/lsa.md\n",
    "* https://www.andreafortuna.org/2018/03/26/retrieving-ntlm-hashes-without-touching-lsass-the-internal-monologue-attack/\n",
    "* https://www.optiv.com/blog/post-exploitation-using-netntlm-downgrade-attacks"
   ]
  }
 ],
 "metadata": {},
 "nbformat": 4,
 "nbformat_minor": 2
}
