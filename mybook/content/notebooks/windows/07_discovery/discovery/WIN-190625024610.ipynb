{
 "cells": [
  {
   "cell_type": "markdown",
   "metadata": {},
   "source": [
    "# SysKey Registry Keys Access"
   ]
  },
  {
   "cell_type": "markdown",
   "metadata": {},
   "source": [
    "## Metadata"
   ]
  },
  {
   "cell_type": "markdown",
   "metadata": {},
   "source": [
    "\n",
    "|               |    |\n",
    "|:--------------|:---|\n",
    "| id            | WIN-190625024610 |\n",
    "| author        | Roberto Rodriguez @Cyb3rWard0g |\n",
    "| creation date | 2019/06/25 |\n",
    "| platform      | Windows |\n",
    "| playbook link |  |\n",
    "        "
   ]
  },
  {
   "cell_type": "markdown",
   "metadata": {},
   "source": [
    "## Technical Description\n",
    "Every computer that runs Windows has its own local domain; that is, it has an account database for accounts that are specific to that computer.\n",
    "Conceptually,this is an account database like any other with accounts, groups, SIDs, and so on. These are referred to as local accounts, local groups, and so on.\n",
    "Because computers typically do not trust each other for account information, these identities stay local to the computer on which they were created.\n",
    "Adversaries might use tools like Mimikatz with lsadump::sam commands or scripts such as Invoke-PowerDump to get the SysKey to decrypt Security Account Mannager (SAM) database entries (from registry or hive) and get NTLM, and sometimes LM hashes of local accounts passwords.\n",
    "Adversaries can calculate the Syskey by using RegOpenKeyEx/RegQueryInfoKey API calls to query the appropriate class info and values from the HKLM:\\SYSTEM\\CurrentControlSet\\Control\\Lsa\\JD, HKLM:\\SYSTEM\\CurrentControlSet\\Control\\Lsa\\Skew1, HKLM:\\SYSTEM\\CurrentControlSet\\Control\\Lsa\\GBG, and HKLM:\\SYSTEM\\CurrentControlSet\\Control\\Lsa\\Data keys.\n",
    "\n",
    "Additional reading\n",
    "* https://github.com/hunters-forge/ThreatHunter-Playbook/tree/master/docs/content/library/security_account_manager_database.md\n",
    "* https://github.com/hunters-forge/ThreatHunter-Playbook/tree/master/docs/content/library/library/syskey.md"
   ]
  },
  {
   "cell_type": "markdown",
   "metadata": {},
   "source": [
    "## Hypothesis\n",
    "Adversaries might be calculating the SysKey from registry key values to decrypt SAM entries"
   ]
  },
  {
   "cell_type": "markdown",
   "metadata": {},
   "source": [
    "## Analytics"
   ]
  },
  {
   "cell_type": "markdown",
   "metadata": {},
   "source": [
    "### Initialize Analytics Engine"
   ]
  },
  {
   "cell_type": "code",
   "execution_count": null,
   "metadata": {},
   "outputs": [],
   "source": [
    "from openhunt.mordorutils import *\n",
    "spark = get_spark()"
   ]
  },
  {
   "cell_type": "markdown",
   "metadata": {},
   "source": [
    "### Download & Process Mordor File"
   ]
  },
  {
   "cell_type": "code",
   "execution_count": null,
   "metadata": {},
   "outputs": [],
   "source": [
    "mordor_file = \"https://raw.githubusercontent.com/hunters-forge/mordor/master/datasets/small/windows/credential_acces/empire_mimikatz_lsadump_sam.tar.gz\"\n",
    "registerMordorSQLTable(spark, mordor_file, \"mordorTable\")"
   ]
  },
  {
   "cell_type": "markdown",
   "metadata": {},
   "source": [
    "### Analytic I"
   ]
  },
  {
   "cell_type": "markdown",
   "metadata": {},
   "source": [
    "\n",
    "| FP Rate  | Log Channel | Description   |\n",
    "| :--------| :-----------| :-------------|\n",
    "| Low       | ['Security']          | Look for handle requests and access operations to specific registry keys used to calculate the SysKey. SACLs are needed for them            |\n",
    "            "
   ]
  },
  {
   "cell_type": "code",
   "execution_count": null,
   "metadata": {},
   "outputs": [],
   "source": [
    "df = spark.sql(\n",
    "    '''\n",
    "SELECT `@timestamp`, ProcessName, ObjectName, AccessMask, event_id\n",
    "FROM mordorTable\n",
    "WHERE channel = \"Security\"\n",
    "    AND (event_id = 4656 OR event_id = 4663)\n",
    "    AND ObjectType = \"Key\"\n",
    "    AND (\n",
    "        lower(ObjectName) LIKE \"%jd\"\n",
    "        OR lower(ObjectName) LIKE \"%gbg\"\n",
    "        OR lower(ObjectName) LIKE \"%data\"\n",
    "        OR lower(ObjectName) LIKE \"%skew1\"\n",
    "    )\n",
    "    '''\n",
    ")\n",
    "df.show(10,False)"
   ]
  },
  {
   "cell_type": "markdown",
   "metadata": {},
   "source": [
    "## Detection Blindspots\n",
    "Apparently the registry keys needed to calculate the SysKey are accessed by processes such as smss.exe, winlogon.exe and syskey.exe, but when the system boots. An adversary can migrate to those processes to blend in."
   ]
  },
  {
   "cell_type": "markdown",
   "metadata": {},
   "source": [
    "## Hunter Notes\n",
    "* An audit rule needs to be added to the SACL of the following keys to monitor for ReadKey rights\n",
    "  * HKLM:\\SYSTEM\\CurrentControlSet\\Control\\Lsa\\JD\n",
    "  * HKLM:\\SYSTEM\\CurrentControlSet\\Control\\Lsa\\Skew1\n",
    "  * HKLM:\\SYSTEM\\CurrentControlSet\\Control\\Lsa\\GBG\n",
    "  * HKLM:\\SYSTEM\\CurrentControlSet\\Control\\Lsa\\Data\n",
    "* Defenders can correlate known processes accessing those registry keys with events that tell you when the system boots up.\n",
    "* Look for the same process accessing all those registry keys in a short period of time."
   ]
  },
  {
   "cell_type": "markdown",
   "metadata": {},
   "source": [
    "## Hunt Output\n",
    "\n",
    "| Category | Type | Name     |\n",
    "| :--------| :----| :--------|\n",
    "| signature | SIGMA | [win_syskey_registry_access](https://github.com/Cyb3rWard0g/ThreatHunter-Playbook/tree/master/signatures/sigma/win_syskey_registry_access.yml) |"
   ]
  },
  {
   "cell_type": "markdown",
   "metadata": {},
   "source": [
    "## References\n",
    "* https://github.com/gentilkiwi/mimikatz/wiki/module-~-lsadump\n",
    "* https://adsecurity.org/?page_id=1821#LSADUMPSAM\n",
    "* http://www.harmj0y.net/blog/activedirectory/remote-hash-extraction-on-demand-via-host-security-descriptor-modification/\n",
    "* https://docs.microsoft.com/en-us/dotnet/api/system.security.accesscontrol.registryrights?view=netframework-4.8\n",
    "* https://docs.microsoft.com/en-us/windows/desktop/sysinfo/registry-key-security-and-access-rights"
   ]
  }
 ],
 "metadata": {},
 "nbformat": 4,
 "nbformat_minor": 2
}
