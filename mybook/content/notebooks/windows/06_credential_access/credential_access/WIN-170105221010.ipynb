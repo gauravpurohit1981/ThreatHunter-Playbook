{
 "cells": [
  {
   "cell_type": "markdown",
   "metadata": {},
   "source": [
    "# LSASS Access from Non System Account"
   ]
  },
  {
   "cell_type": "markdown",
   "metadata": {},
   "source": [
    "## Metadata"
   ]
  },
  {
   "cell_type": "markdown",
   "metadata": {},
   "source": [
    "\n",
    "|               |    |\n",
    "|:--------------|:---|\n",
    "| id            | WIN-170105221010 |\n",
    "| author        | Roberto Rodriguez @Cyb3rWard0g |\n",
    "| creation date | 2017/01/05 |\n",
    "| platform      | Windows |\n",
    "| playbook link | WIN-1904101010 |\n",
    "        "
   ]
  },
  {
   "cell_type": "markdown",
   "metadata": {},
   "source": [
    "## Technical Description\n",
    "After a user logs on, a variety of credentials are generated and stored in the Local Security Authority Subsystem Service (LSASS) process in memory.\n",
    "This is meant to facilitate single sign-on (SSO) ensuring a user isn’t prompted each time resource access is requested.\n",
    "The credential data may include Kerberos tickets, NTLM password hashes, LM password hashes (if the password is <15 characters, depending on Windows OS version and patch level), and even clear-text passwords (to support WDigest and SSP authentication among others.\n",
    "Adversaries look to get access to the credential data and do it so by finding a way to access the contents of memory of the LSASS process.\n",
    "For example, tools like Mimikatz get credential data by listing all available provider credentials with its SEKURLSA::LogonPasswords module.\n",
    "The module uses a Kernel32 function called OpenProcess to get a handle to lsass to then access LSASS and dump password data for currently logged on (or recently logged on) accounts as well as services running under the context of user credentials.\n",
    "Even though most adversaries might inject into a System process to blend in with most applications accessing LSASS, there are ocassions where adversaries do not elevate to System and use the available administrator rights from the user since that is the minimum requirement to access LSASS."
   ]
  },
  {
   "cell_type": "markdown",
   "metadata": {},
   "source": [
    "## Hypothesis\n",
    "Adversaries might be using a non system account to access LSASS and extract credentials from memory."
   ]
  },
  {
   "cell_type": "markdown",
   "metadata": {},
   "source": [
    "## Analytics"
   ]
  },
  {
   "cell_type": "markdown",
   "metadata": {},
   "source": [
    "### Initialize Analytics Engine"
   ]
  },
  {
   "cell_type": "code",
   "execution_count": null,
   "metadata": {},
   "outputs": [],
   "source": [
    "from openhunt.mordorutils import *\n",
    "spark = get_spark()"
   ]
  },
  {
   "cell_type": "markdown",
   "metadata": {},
   "source": [
    "### Download & Process Mordor File"
   ]
  },
  {
   "cell_type": "code",
   "execution_count": null,
   "metadata": {},
   "outputs": [],
   "source": [
    "mordor_file = \"https://raw.githubusercontent.com/hunters-forge/mordor/master/datasets/small/windows/credential_access/empire_mimikatz_logonpasswords.tar.gz\"\n",
    "registerMordorSQLTable(spark, mordor_file, \"mordorTable\")"
   ]
  },
  {
   "cell_type": "markdown",
   "metadata": {},
   "source": [
    "### Analytic I"
   ]
  },
  {
   "cell_type": "markdown",
   "metadata": {},
   "source": [
    "\n",
    "| FP Rate  | Log Channel | Description   |\n",
    "| :--------| :-----------| :-------------|\n",
    "| Low       | ['Security']          | Look for non-system accounts getting a handle and access lsass            |\n",
    "            "
   ]
  },
  {
   "cell_type": "code",
   "execution_count": null,
   "metadata": {},
   "outputs": [],
   "source": [
    "df = spark.sql(\n",
    "    '''\n",
    "SELECT `@timestamp`, computer_name, SubjectUserName, ProcessName, ObjectName, AccessMask, event_id\n",
    "FROM mordorTable\n",
    "WHERE channel = \"Security\"\n",
    "    AND (event_id = 4663 OR event_id = 4656)\n",
    "    AND ObjectName LIKE \"%lsass.exe\"\n",
    "    AND NOT SubjectUserName LIKE \"%$\"\n",
    "    '''\n",
    ")\n",
    "df.show(10,False)"
   ]
  },
  {
   "cell_type": "markdown",
   "metadata": {},
   "source": [
    "### Analytic II"
   ]
  },
  {
   "cell_type": "markdown",
   "metadata": {},
   "source": [
    "\n",
    "| FP Rate  | Log Channel | Description   |\n",
    "| :--------| :-----------| :-------------|\n",
    "| Medium       | ['Microsoft-Windows-Sysmon/Operational']          | Processes opening handles and accessing Lsass with potential dlls in memory (i.e UNKNOWN in CallTrace)            |\n",
    "            "
   ]
  },
  {
   "cell_type": "code",
   "execution_count": null,
   "metadata": {},
   "outputs": [],
   "source": [
    "df = spark.sql(\n",
    "    '''\n",
    "SELECT `@timestamp`, computer_name, SourceImage, TargetImage, GrantedAccess, SourceProcessGUID\n",
    "FROM mordorTable\n",
    "WHERE channel = \"Microsoft-Windows-Sysmon/Operational\"\n",
    "    AND event_id = 10\n",
    "    AND TargetImage LIKE \"%lsass.exe\"\n",
    "    AND CallTrace LIKE \"%UNKNOWN%\"\n",
    "    '''\n",
    ")\n",
    "df.show(10,False)"
   ]
  },
  {
   "cell_type": "markdown",
   "metadata": {},
   "source": [
    "### Analytic III"
   ]
  },
  {
   "cell_type": "markdown",
   "metadata": {},
   "source": [
    "\n",
    "| FP Rate  | Log Channel | Description   |\n",
    "| :--------| :-----------| :-------------|\n",
    "| Medium       | ['Microsoft-Windows-Sysmon/Operational']          | Look for processes loading a few known DLLs loaded by tools like Mimikatz to interact with credentials            |\n",
    "            "
   ]
  },
  {
   "cell_type": "code",
   "execution_count": null,
   "metadata": {},
   "outputs": [],
   "source": [
    "df = spark.sql(\n",
    "    '''\n",
    "SELECT ProcessGuid,Image, COUNT(DISTINCT ImageLoaded) AS hits\n",
    "FROM mordorTable\n",
    "WHERE channel = \"Microsoft-Windows-Sysmon/Operational\"\n",
    "    AND event_id = 7\n",
    "    AND ( \n",
    "        ImageLoaded LIKE \"%samlib.dll\"\n",
    "        OR ImageLoaded LIKE \"%vaultcli.dll\"\n",
    "        OR ImageLoaded LIKE \"%hid.dll\"\n",
    "        OR ImageLoaded LIKE \"%winscard.dll\"\n",
    "        OR ImageLoaded LIKE \"%cryptdll.dll\"\n",
    "    )\n",
    "    AND `@timestamp` BETWEEN \"2019-03-00 00:00:00.000\" AND \"2019-06-20 00:00:00.000\"\n",
    "    GROUP BY ProcessGuid,Image ORDER BY hits DESC LIMIT 10\n",
    "    '''\n",
    ")\n",
    "df.show(10,False)"
   ]
  },
  {
   "cell_type": "markdown",
   "metadata": {},
   "source": [
    "### Analytic IV"
   ]
  },
  {
   "cell_type": "markdown",
   "metadata": {},
   "source": [
    "\n",
    "| FP Rate  | Log Channel | Description   |\n",
    "| :--------| :-----------| :-------------|\n",
    "| Medium       | ['Microsoft-Windows-Sysmon/Operational']          | Join processes opening a handle and accessing LSASS with potential DLLs loaded in memory and processes loading a few known DLLs loaded by tools like Mimikatz to interact with credentials            |\n",
    "            "
   ]
  },
  {
   "cell_type": "code",
   "execution_count": null,
   "metadata": {},
   "outputs": [],
   "source": [
    "df = spark.sql(\n",
    "    '''\n",
    "SELECT a.`@timestamp`, a.computer_name, m.Image, a.SourceProcessGUID\n",
    "FROM mordorTable a\n",
    "INNER JOIN (\n",
    "    SELECT ProcessGuid,Image, COUNT(DISTINCT ImageLoaded) AS hits\n",
    "    FROM mordorTable\n",
    "    WHERE channel = \"Microsoft-Windows-Sysmon/Operational\"\n",
    "        AND event_id = 7\n",
    "        AND ( \n",
    "            ImageLoaded LIKE \"%samlib.dll\"\n",
    "            OR ImageLoaded LIKE \"%vaultcli.dll\"\n",
    "            OR ImageLoaded LIKE \"%hid.dll\"\n",
    "            OR ImageLoaded LIKE \"%winscard.dll\"\n",
    "            OR ImageLoaded LIKE \"%cryptdll.dll\"\n",
    "        )\n",
    "        AND `@timestamp` BETWEEN \"2019-03-00 00:00:00.000\" AND \"2019-06-20 00:00:00.000\"\n",
    "        GROUP BY ProcessGuid,Image ORDER BY hits DESC LIMIT 10\n",
    "    ) m\n",
    "ON a.SourceProcessGUID = m.ProcessGuid\n",
    "WHERE a.channel = \"Microsoft-Windows-Sysmon/Operational\"\n",
    "    AND a.event_id = 10\n",
    "    AND a.TargetImage LIKE \"%lsass.exe\"\n",
    "    AND a.CallTrace LIKE \"%UNKNOWN%\"\n",
    "    AND m.hits >= 3\n",
    "    '''\n",
    ")\n",
    "df.show(10,False)"
   ]
  },
  {
   "cell_type": "markdown",
   "metadata": {},
   "source": [
    "### Analytic V"
   ]
  },
  {
   "cell_type": "markdown",
   "metadata": {},
   "source": [
    "\n",
    "| FP Rate  | Log Channel | Description   |\n",
    "| :--------| :-----------| :-------------|\n",
    "| Medium       | ['Microsoft-Windows-Sysmon/Operational']          | Join non system accounts creating processes that open handles and access LSASS with potential DLLs loaded in memory and load a few known DLLs loaded by tools like Mimikatz to interact with credentials on ProcessGuid values            |\n",
    "            "
   ]
  },
  {
   "cell_type": "code",
   "execution_count": null,
   "metadata": {},
   "outputs": [],
   "source": [
    "df = spark.sql(\n",
    "    '''\n",
    "SELECT p.`@timestamp`, p.computer_name, p.Image, p.User\n",
    "FROM mordorTable p\n",
    "INNER JOIN potential_mimikatz m\n",
    "ON p.ProcessGuid = m.SourceProcessGUID\n",
    "WHERE p.channel = \"Microsoft-Windows-Sysmon/Operational\"\n",
    "    AND p.event_id = 1\n",
    "    AND NOT p.LogonId = \"0x3e7\"\n",
    "    '''\n",
    ")\n",
    "df.show(10,False)"
   ]
  },
  {
   "cell_type": "markdown",
   "metadata": {},
   "source": [
    "## Detection Blindspots\n",
    "The Microsoft Monitoring Agent binary pmfexe.exe is one of the most common ones that accesses Lsass.exe with at least 0x10 permissions as System. That could be useful to blend in through the noise."
   ]
  },
  {
   "cell_type": "markdown",
   "metadata": {},
   "source": [
    "## Hunter Notes\n",
    "* Looking for processes accessing LSASS with the 0x10(VmRead) rights from a non-system account is very suspicious and not as common as you might think.\n",
    "* GrantedAccess code 0x1010 is the new permission Mimikatz v.20170327 uses for command \"sekurlsa::logonpasswords\". You can specifically look for that from processes like PowerShell to create a basic signature.\n",
    "  * 0x00000010 = VMRead\n",
    "  * 0x00001000 = QueryLimitedInfo\n",
    "* GrantedAccess code 0x1010 is less common than 0x1410 in large environment.\n",
    "* Out of all the Modules that Mimikatz needs to function, there are 5 modules that when loaded all together by the same process is very suspicious.\n",
    "  * samlib.dll, vaultcli.dll, hid.dll, winscard.dll, cryptdll.dll\n",
    "* For signatures purposes, look for processes accessing Lsass.exe with a potential CallTrace Pattern> /C:\\Windows\\SYSTEM32\\ntdll.dll+[a-zA-Z0-9]{1,}|C:\\Windows\\System32\\KERNELBASE.dll+[a-zA-Z0-9]{1,}|UNKNOWN.*/\n",
    "* You could use a stack counting technique to stack all the values of the permissions invoked by processes accessing Lsass.exe. You will have to do some filtering to reduce the number of false positives. You could then group the results with other events such as modules being loaded (EID 7). A time window of 1-2 seconds could help to get to a reasonable number of events for analysis."
   ]
  },
  {
   "cell_type": "markdown",
   "metadata": {},
   "source": [
    "## Hunt Output\n"
   ]
  },
  {
   "cell_type": "markdown",
   "metadata": {},
   "source": [
    "## References\n",
    "* https://tyranidslair.blogspot.com/2017/10/bypassing-sacl-auditing-on-lsass.htmls\n",
    "* https://adsecurity.org/?page_id=1821#SEKURLSALogonPasswords\n",
    "* https://github.com/PowerShellMafia/PowerSploit/tree/dev\n",
    "* http://clymb3r.wordpress.com/2013/04/09/modifying-mimikatz-to-be-loaded-using-invoke-reflectivedllinjection-ps1/"
   ]
  }
 ],
 "metadata": {},
 "nbformat": 4,
 "nbformat_minor": 2
}
