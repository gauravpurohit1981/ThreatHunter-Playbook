{
 "cells": [
  {
   "cell_type": "markdown",
   "metadata": {},
   "source": [
    "# WMI Module Load"
   ]
  },
  {
   "cell_type": "markdown",
   "metadata": {},
   "source": [
    "## Metadata"
   ]
  },
  {
   "cell_type": "markdown",
   "metadata": {},
   "source": [
    "\n",
    "|               |    |\n",
    "|:--------------|:---|\n",
    "| id            | WIN-190811201010 |\n",
    "| author        | Roberto Rodriguez @Cyb3rWard0g |\n",
    "| creation date | 2019/08/11 |\n",
    "| platform      | Windows |\n",
    "| playbook link |  |\n",
    "        "
   ]
  },
  {
   "cell_type": "markdown",
   "metadata": {},
   "source": [
    "## Technical Description\n",
    "WMI is the Microsoft implementation of the Web-Based Enterprise Management (WBEM) and Common Information Model (CIM).\n",
    "Both standards aim to provide an industry-agnostic means of collecting and transmitting information related to any managed component in an enterprise. An example of a managed component in WMI would be a running process, registry key, installed service, file information, etc.\n",
    "At a high level, Microsoft’s implementation of these standards can be summarized as follows > Managed Components Managed components are represented as WMI objects — class instances representing highly structured operating system data. Microsoft provides a wealth of WMI objects that communicate information related to the operating system. E.g. Win32_Process, Win32_Service, AntiVirusProduct, Win32_StartupCommand, etc.\n",
    "WMI modules loaded by legit processes such as wmiprvse.exe or wmiapsrv.exe are the following\n",
    "\n",
    "C:\\Windows\\System32\\wmiclnt.dll\n",
    "C:\\Windows\\System32\\wbem\\WmiApRpl.dll\n",
    "C:\\Windows\\System32\\wbem\\wmiprov.dll\n",
    "C:\\Windows\\System32\\wbem\\wmiutils.dll\n",
    "Adversaries could leverage the WMI modules above to execute WMI tasks bypassing controls looking for wmiprvse.exe or wmiapsrv.exe activity."
   ]
  },
  {
   "cell_type": "markdown",
   "metadata": {},
   "source": [
    "## Hypothesis\n",
    "Adversaries might be leveraging WMI modules to execute WMI tasks bypassing controls monitoring for wmiprvse.exe or wmiapsrv.exe activity"
   ]
  },
  {
   "cell_type": "markdown",
   "metadata": {},
   "source": [
    "## Analytics"
   ]
  },
  {
   "cell_type": "markdown",
   "metadata": {},
   "source": [
    "### Initialize Analytics Engine"
   ]
  },
  {
   "cell_type": "code",
   "execution_count": null,
   "metadata": {},
   "outputs": [],
   "source": [
    "from openhunt.mordorutils import *\n",
    "spark = get_spark()"
   ]
  },
  {
   "cell_type": "markdown",
   "metadata": {},
   "source": [
    "### Download & Process Mordor File"
   ]
  },
  {
   "cell_type": "code",
   "execution_count": null,
   "metadata": {},
   "outputs": [],
   "source": [
    "mordor_file = \"https://raw.githubusercontent.com/hunters-forge/mordor/master/datasets/small/windows/defense_evasion/empire_psinject.tar.gz\"\n",
    "registerMordorSQLTable(spark, mordor_file, \"mordorTable\")"
   ]
  },
  {
   "cell_type": "markdown",
   "metadata": {},
   "source": [
    "### Analytic I"
   ]
  },
  {
   "cell_type": "markdown",
   "metadata": {},
   "source": [
    "\n",
    "| FP Rate  | Log Channel | Description   |\n",
    "| :--------| :-----------| :-------------|\n",
    "| Low       | ['Microsoft-Windows-Sysmon/Operational']          | Look for processes (non wmiprvse.exe or WmiApSrv.exe) loading wmi modules            |\n",
    "            "
   ]
  },
  {
   "cell_type": "code",
   "execution_count": null,
   "metadata": {},
   "outputs": [],
   "source": [
    "df = spark.sql(\n",
    "    '''\n",
    "SELECT `@timestamp`, computer_name, Image, ImageLoaded\n",
    "FROM mordorTable\n",
    "WHERE channel = \"Microsoft-Windows-Sysmon/Operational\"\n",
    "    AND event_id = 7\n",
    "    AND (\n",
    "        lower(ImageLoaded) LIKE \"%wmiclnt.dll\"\n",
    "        OR lower(ImageLoaded) LIKE \"%WmiApRpl.dll\"\n",
    "        OR lower(ImageLoaded) LIKE \"%wmiprov.dll\"\n",
    "        OR lower(ImageLoaded) LIKE \"%wmiutils.dll\"\n",
    "        OR lower(ImageLoaded) LIKE \"%wbemcomn.dll\"\n",
    "        OR lower(ImageLoaded) LIKE \"%WMINet_Utils.dll\"\n",
    "        OR lower(ImageLoaded) LIKE \"%wbemsvc.dll\"\n",
    "        OR lower(ImageLoaded) LIKE \"%fastprox.dll\"\n",
    "        OR lower(Description) LIKE \"%wmi%\"\n",
    "    )\n",
    "    AND NOT (\n",
    "        lower(Image) LIKE \"%wmiprvse.exe\"\n",
    "        OR lower(Image) LIKE \"%wmiapsrv.exe\"\n",
    "        OR lower(Image) LIKE \"%svchost.exe\"\n",
    "    )\n",
    "    '''\n",
    ")\n",
    "df.show(10,False)"
   ]
  },
  {
   "cell_type": "markdown",
   "metadata": {},
   "source": [
    "## Detection Blindspots\n"
   ]
  },
  {
   "cell_type": "markdown",
   "metadata": {},
   "source": [
    "## Hunter Notes\n",
    "* Stack the processes loading WMI modules and document the activity in your environment.\n",
    "* Stack child processes (if any) of non wmiprvse.exe loading wmi modules"
   ]
  },
  {
   "cell_type": "markdown",
   "metadata": {},
   "source": [
    "## Hunt Output\n",
    "\n",
    "| Category | Type | Name     |\n",
    "| :--------| :----| :--------|\n",
    "| signature | SIGMA | [sysmon_wmi_module_load](https://github.com/hunters-forge/ThreatHunter-Playbook/blob/master/signatures/sigma/sysmon_wmi_module_load.yml) |"
   ]
  },
  {
   "cell_type": "markdown",
   "metadata": {},
   "source": [
    "## References\n",
    "* https://posts.specterops.io/threat-hunting-with-jupyter-notebooks-part-4-sql-join-via-apache-sparksql-6630928c931e\n",
    "* https://posts.specterops.io/real-time-sysmon-processing-via-ksql-and-helk-part-3-basic-use-case-8fbf383cb54f"
   ]
  }
 ],
 "metadata": {},
 "nbformat": 4,
 "nbformat_minor": 2
}
