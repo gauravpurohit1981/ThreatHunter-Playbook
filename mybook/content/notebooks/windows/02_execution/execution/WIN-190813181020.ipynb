{
 "cells": [
  {
   "cell_type": "markdown",
   "metadata": {},
   "source": [
    "# Service Creation"
   ]
  },
  {
   "cell_type": "markdown",
   "metadata": {},
   "source": [
    "## Metadata"
   ]
  },
  {
   "cell_type": "markdown",
   "metadata": {},
   "source": [
    "\n",
    "|               |    |\n",
    "|:--------------|:---|\n",
    "| id            | WIN-190813181020 |\n",
    "| author        | Roberto Rodriguez @Cyb3rWard0g |\n",
    "| creation date | 2019/08/13 |\n",
    "| platform      | Windows |\n",
    "| playbook link |  |\n",
    "        "
   ]
  },
  {
   "cell_type": "markdown",
   "metadata": {},
   "source": [
    "## Technical Description\n",
    "Adversaries may execute a binary, command, or script via a method that interacts with Windows services, such as the Service Control Manager.\n",
    "This can be done by by adversaries creating a new service."
   ]
  },
  {
   "cell_type": "markdown",
   "metadata": {},
   "source": [
    "## Hypothesis\n",
    "Adversaries might be creating new services to execute code on a compromised endpoint in my environment"
   ]
  },
  {
   "cell_type": "markdown",
   "metadata": {},
   "source": [
    "## Analytics"
   ]
  },
  {
   "cell_type": "markdown",
   "metadata": {},
   "source": [
    "### Initialize Analytics Engine"
   ]
  },
  {
   "cell_type": "code",
   "execution_count": null,
   "metadata": {},
   "outputs": [],
   "source": [
    "from openhunt.mordorutils import *\n",
    "spark = get_spark()"
   ]
  },
  {
   "cell_type": "markdown",
   "metadata": {},
   "source": [
    "### Download & Process Mordor File"
   ]
  },
  {
   "cell_type": "code",
   "execution_count": null,
   "metadata": {},
   "outputs": [],
   "source": [
    "mordor_file = \"https://raw.githubusercontent.com/hunters-forge/mordor/master/datasets/small/windows/execution/empire_invoke_psexec.tar.gz\"\n",
    "registerMordorSQLTable(spark, mordor_file, \"mordorTable\")"
   ]
  },
  {
   "cell_type": "markdown",
   "metadata": {},
   "source": [
    "### Analytic I"
   ]
  },
  {
   "cell_type": "markdown",
   "metadata": {},
   "source": [
    "\n",
    "| FP Rate  | Log Channel | Description   |\n",
    "| :--------| :-----------| :-------------|\n",
    "| Low       | ['Security']          | Look for new services being created in your environment and stack the values of it            |\n",
    "            "
   ]
  },
  {
   "cell_type": "code",
   "execution_count": null,
   "metadata": {},
   "outputs": [],
   "source": [
    "df = spark.sql(\n",
    "    '''\n",
    "SELECT `@timestamp`, computer_name, SubjectUserName ServiceName, ServiceType, ServiceStartType, ServiceAccount\n",
    "FROM mordorTable\n",
    "WHERE channel = \"Security\" AND event_id = 4697\n",
    "    '''\n",
    ")\n",
    "df.show(10,False)"
   ]
  },
  {
   "cell_type": "markdown",
   "metadata": {},
   "source": [
    "## Detection Blindspots\n"
   ]
  },
  {
   "cell_type": "markdown",
   "metadata": {},
   "source": [
    "## Hunter Notes\n",
    "* If there are a lot of unique services being created in your environment, try to categorize the data based on the bussiness unit.\n",
    "* Identify the source of unique services being created everyday. I have seen Microsoft applications doing this.\n",
    "* Stack the values of the service file name associated with the new service.\n",
    "* Document what users create new services across your environment on a daily basis"
   ]
  },
  {
   "cell_type": "markdown",
   "metadata": {},
   "source": [
    "## Hunt Output\n"
   ]
  },
  {
   "cell_type": "markdown",
   "metadata": {},
   "source": [
    "## References\n",
    "* https://www.powershellempire.com/?page_id=523"
   ]
  }
 ],
 "metadata": {},
 "nbformat": 4,
 "nbformat_minor": 2
}
