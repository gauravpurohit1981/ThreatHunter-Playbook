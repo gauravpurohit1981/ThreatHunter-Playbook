{
 "cells": [
  {
   "cell_type": "markdown",
   "metadata": {},
   "source": [
    "# Remote Service Control Manager Handle"
   ]
  },
  {
   "cell_type": "markdown",
   "metadata": {},
   "source": [
    "## Metadata"
   ]
  },
  {
   "cell_type": "markdown",
   "metadata": {},
   "source": [
    "\n",
    "|               |    |\n",
    "|:--------------|:---|\n",
    "| id            | WIN-190826010110 |\n",
    "| author        | Roberto Rodriguez @Cyb3rWard0g |\n",
    "| creation date | 2019/08/26 |\n",
    "| platform      | Windows |\n",
    "| playbook link |  |\n",
    "        "
   ]
  },
  {
   "cell_type": "markdown",
   "metadata": {},
   "source": [
    "## Technical Description\n",
    "Often times, when an adversary lands on an endpoint, the current user does not have local administrator privileges over the compromised system.\n",
    "While some adversaries consider this situation a dead end, others find it very interesting to identify which machines on the network the current user has administrative access to.\n",
    "One common way to accomplish this is by attempting to open up a handle to the service control manager (SCM) database on remote endpoints in the network with SC_MANAGER_ALL_ACCESS (0xF003F) access rights.\n",
    "The Service Control Manager (SCM) is a remote procedure call (RPC) server, so that service configuration and service control programs can manipulate services on remote machines.\n",
    "Only processes with Administrator privileges are able to open a handle to the SCM database.\n",
    "This database is also known as the ServicesActive database.\n",
    "Therefore, it is very effective to check if the current user has administrative or local admin access to other endpoints in the network.\n",
    "An adversary can simply use the Win32 API function [OpenSCManagerA](https://docs.microsoft.com/en-us/windows/win32/api/winsvc/nf-winsvc-openscmanagera) to attempt to establish a connection to the service control manager (SCM) on the specified computer and open the service control manager database.\n",
    "If this succeeds (A non-zero handle is returned), the current user context has local administrator acess to the remote host.\n",
    "\n",
    "Additional reading\n",
    "* https://github.com/hunters-forge/ThreatHunter-Playbook/tree/master/docs/content/library/service_control_manager.md"
   ]
  },
  {
   "cell_type": "markdown",
   "metadata": {},
   "source": [
    "## Hypothesis\n",
    "Adversaries might be attempting to open up a handle to the service control manager (SCM) database on remote endpoints to check for local admin access in my environment."
   ]
  },
  {
   "cell_type": "markdown",
   "metadata": {},
   "source": [
    "## Analytics"
   ]
  },
  {
   "cell_type": "markdown",
   "metadata": {},
   "source": [
    "### Initialize Analytics Engine"
   ]
  },
  {
   "cell_type": "code",
   "execution_count": null,
   "metadata": {},
   "outputs": [],
   "source": [
    "from openhunt.mordorutils import *\n",
    "spark = get_spark()"
   ]
  },
  {
   "cell_type": "markdown",
   "metadata": {},
   "source": [
    "### Download & Process Mordor File"
   ]
  },
  {
   "cell_type": "code",
   "execution_count": null,
   "metadata": {},
   "outputs": [],
   "source": [
    "mordor_file = \"https://raw.githubusercontent.com/hunters-forge/mordor/master/datasets/small/windows/lateral_movement/empire_find_local_admin.tar.gz\"\n",
    "registerMordorSQLTable(spark, mordor_file, \"mordorTable\")"
   ]
  },
  {
   "cell_type": "markdown",
   "metadata": {},
   "source": [
    "### Analytic I"
   ]
  },
  {
   "cell_type": "markdown",
   "metadata": {},
   "source": [
    "\n",
    "| FP Rate  | Log Channel | Description   |\n",
    "| :--------| :-----------| :-------------|\n",
    "| Low       | ['Security']          | Detects non-system users failing to get a handle of the SCM database.            |\n",
    "            "
   ]
  },
  {
   "cell_type": "code",
   "execution_count": null,
   "metadata": {},
   "outputs": [],
   "source": [
    "df = spark.sql(\n",
    "    '''\n",
    "SELECT `@timestamp`, computer_name, SubjectUserName, ProcessName, ObjectName\n",
    "FROM mordorTable\n",
    "WHERE channel = \"Security\"\n",
    "    AND event_id = 4656\n",
    "    AND ObjectType = \"SC_MANAGER OBJECT\"\n",
    "    AND ObjectName = \"ServicesActive\"\n",
    "    AND AccessMask = \"0xf003f\"\n",
    "    AND NOT SubjectLogonId = \"0x3e4\"\n",
    "    '''\n",
    ")\n",
    "df.show(10,False)"
   ]
  },
  {
   "cell_type": "markdown",
   "metadata": {},
   "source": [
    "### Analytic II"
   ]
  },
  {
   "cell_type": "markdown",
   "metadata": {},
   "source": [
    "\n",
    "| FP Rate  | Log Channel | Description   |\n",
    "| :--------| :-----------| :-------------|\n",
    "| Low       | ['Security']          | Look for non-system accounts performing privileged operations on protected subsystem objects such as the SCM database            |\n",
    "            "
   ]
  },
  {
   "cell_type": "code",
   "execution_count": null,
   "metadata": {},
   "outputs": [],
   "source": [
    "df = spark.sql(\n",
    "    '''\n",
    "SELECT `@timestamp`, computer_name, SubjectUserName, ProcessName, ObjectName, PrivilegeList, ObjectServer\n",
    "FROM mordorTable\n",
    "WHERE channel = \"Security\"\n",
    "    AND event_id = 4674\n",
    "    AND ObjectType = \"SC_MANAGER OBJECT\"\n",
    "    AND ObjectName = \"ServicesActive\"\n",
    "    AND PrivilegeList = \"SeTakeOwnershipPrivilege\"\n",
    "    AND NOT SubjectLogonId = \"0x3e4\"\n",
    "    '''\n",
    ")\n",
    "df.show(10,False)"
   ]
  },
  {
   "cell_type": "markdown",
   "metadata": {},
   "source": [
    "### Analytic III"
   ]
  },
  {
   "cell_type": "markdown",
   "metadata": {},
   "source": [
    "\n",
    "| FP Rate  | Log Channel | Description   |\n",
    "| :--------| :-----------| :-------------|\n",
    "| Low       | ['Security']          | Look for inbound network connections to services.exe from other endpoints in the network. Same SourceAddress, but different computer_name            |\n",
    "            "
   ]
  },
  {
   "cell_type": "code",
   "execution_count": null,
   "metadata": {},
   "outputs": [],
   "source": [
    "df = spark.sql(\n",
    "    '''\n",
    "SELECT `@timestamp`, computer_name, Application, SourcePort, SourceAddress, DestPort, DestAddress\n",
    "FROM mordorTable\n",
    "WHERE channel = \"Security\"\n",
    "    AND event_id = 5156\n",
    "    AND Application LIKE \"%\\\\\\services.exe\"\n",
    "    AND LayerRTID = 44\n",
    "    '''\n",
    ")\n",
    "df.show(10,False)"
   ]
  },
  {
   "cell_type": "markdown",
   "metadata": {},
   "source": [
    "### Analytic IV"
   ]
  },
  {
   "cell_type": "markdown",
   "metadata": {},
   "source": [
    "\n",
    "| FP Rate  | Log Channel | Description   |\n",
    "| :--------| :-----------| :-------------|\n",
    "| High       | ['Microsoft-Windows-Sysmon/Operational']          | Look for several network connection maded by services.exe from different endpoints to the same destination            |\n",
    "            "
   ]
  },
  {
   "cell_type": "code",
   "execution_count": null,
   "metadata": {},
   "outputs": [],
   "source": [
    "df = spark.sql(\n",
    "    '''\n",
    "SELECT `@timestamp`, computer_name, User, SourcePort, SourceIp, DestinationPort, DestinationIp\n",
    "FROM mordorTable\n",
    "WHERE channel = \"Microsoft-Windows-Sysmon/Operational\"\n",
    "    AND event_id = 3\n",
    "    AND Image LIKE \"%\\\\\\services.exe\"\n",
    "    '''\n",
    ")\n",
    "df.show(10,False)"
   ]
  },
  {
   "cell_type": "markdown",
   "metadata": {},
   "source": [
    "### Analytic V"
   ]
  },
  {
   "cell_type": "markdown",
   "metadata": {},
   "source": [
    "\n",
    "| FP Rate  | Log Channel | Description   |\n",
    "| :--------| :-----------| :-------------|\n",
    "| Low       | ['Security']          | Look for non-system accounts performing privileged operations on protected subsystem objects such as the SCM database from other endpoints in the network            |\n",
    "            "
   ]
  },
  {
   "cell_type": "code",
   "execution_count": null,
   "metadata": {},
   "outputs": [],
   "source": [
    "df = spark.sql(\n",
    "    '''\n",
    "SELECT o.`@timestamp`, o.computer_name, o.SubjectUserName, o.ObjectType,o.ObjectName, o.PrivilegeList, a.IpAddress\n",
    "FROM mordorTable o\n",
    "INNER JOIN (\n",
    "    SELECT computer_name,TargetUserName,TargetLogonId,IpAddress\n",
    "    FROM mordorTable\n",
    "    WHERE channel = \"Security\"\n",
    "        AND LogonType = 3\n",
    "        AND IpAddress is not null\n",
    "        AND NOT TargetUserName LIKE \"%$\"\n",
    "    ) a\n",
    "ON o.SubjectLogonId = a.TargetLogonId\n",
    "WHERE o.channel = \"Security\"\n",
    "    AND o.event_id = 4674\n",
    "    AND o.ObjectType = \"SC_MANAGER OBJECT\"\n",
    "    AND o.ObjectName = \"ServicesActive\"\n",
    "    AND NOT o.SubjectLogonId = \"0x3e4\"\n",
    "    '''\n",
    ")\n",
    "df.show(10,False)"
   ]
  },
  {
   "cell_type": "markdown",
   "metadata": {},
   "source": [
    "## Detection Blindspots\n"
   ]
  },
  {
   "cell_type": "markdown",
   "metadata": {},
   "source": [
    "## Hunter Notes\n",
    "* Event id 4656 gets generated only when the OpenSCManager API call fails to get a handle to the SCM database. There is not SACL for SCM database so success attempts will not be logged.\n",
    "* Event id 4674 gets triggered when the SCM database is accessed. Filter known or common accounts that obtain a handle to SCM on a regular basis (i.e vulnerability scanners)\n",
    "* You can join security events 4674 and security events 4624 on the LogonID field and filter results on logon type 3 or network to add more context to your query and look for handles to SCM from remote endpoints.\n",
    "* Look for the same endpoint or IP address to many remote hosts to find potential aggressive attempts.\n",
    "* You can also join security events 4674 where the object name is servicesactive (SCM database) with other security events on the object handle. This will allow you to identify what was actually done after the handle was opened. For example, the same handle can be used to create a service (i.e. PSEXESVC)\n",
    "* Event id 5156 gets generated on the target as an inbound network event with process name services.exe. You might have to stack the SourceAddress field value based on your environment noise."
   ]
  },
  {
   "cell_type": "markdown",
   "metadata": {},
   "source": [
    "## Hunt Output\n",
    "\n",
    "| Category | Type | Name     |\n",
    "| :--------| :----| :--------|\n",
    "| signature | SIGMA | [win_scm_database_handle_failure](https://github.com/Cyb3rWard0g/ThreatHunter-Playbook/tree/master/signatures/sigma/win_scm_database_handle_failure.yml) |\n",
    "| signature | SIGMA | [win_scm_database_privileged_operation](https://github.com/Cyb3rWard0g/ThreatHunter-Playbook/tree/master/signatures/sigma/win_scm_database_privileged_operation.yml) |"
   ]
  },
  {
   "cell_type": "markdown",
   "metadata": {},
   "source": [
    "## References\n",
    "* https://docs.microsoft.com/en-us/windows/win32/services/service-security-and-access-rights\n",
    "* https://github.com/EmpireProject/Empire/blob/dev/data/module_source/situational_awareness/network/powerview.ps1#L15473\n",
    "* https://github.com/rapid7/metasploit-framework/blob/master/modules/post/windows/gather/local_admin_search_enum.rb#L217\n",
    "* https://github.com/nettitude/PoshC2_Python/blob/master/Modules/Get-System.ps1#L222\n",
    "* https://www.pentestgeek.com/metasploit/find-local-admin-with-metasploit\n",
    "* http://www.harmj0y.net/blog/penetesting/finding-local-admin-with-the-veil-framework/\n",
    "* https://www.slideshare.net/harmj0y/derbycon-the-unintended-risks-of-trusting-active-directory\n",
    "* https://docs.microsoft.com/en-us/dotnet/api/system.serviceprocess.servicebase.servicehandle?view=netframework-4.8\n",
    "* https://community.rsa.com/community/products/netwitness/blog/2019/04/10/detecting-lateral-movement-in-rsa-netwitness-winexe"
   ]
  }
 ],
 "metadata": {},
 "nbformat": 4,
 "nbformat_minor": 2
}
