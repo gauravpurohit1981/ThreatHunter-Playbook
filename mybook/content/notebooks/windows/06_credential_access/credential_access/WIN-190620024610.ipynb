{
 "cells": [
  {
   "cell_type": "markdown",
   "metadata": {},
   "source": [
    "# Domain DPAPI Backup Key Extraction"
   ]
  },
  {
   "cell_type": "markdown",
   "metadata": {},
   "source": [
    "## Metadata"
   ]
  },
  {
   "cell_type": "markdown",
   "metadata": {},
   "source": [
    "\n",
    "|               |    |\n",
    "|:--------------|:---|\n",
    "| id            | WIN-190620024610 |\n",
    "| author        | Roberto Rodriguez @Cyb3rWard0g |\n",
    "| creation date | 2019/06/20 |\n",
    "| platform      | Windows |\n",
    "| playbook link |  |\n",
    "        "
   ]
  },
  {
   "cell_type": "markdown",
   "metadata": {},
   "source": [
    "## Technical Description\n",
    "Starting with Microsoft® Windows® 2000, the operating system began to provide a data protection application-programming interface (API).\n",
    "This Data Protection API (DPAPI) is a pair of function calls (CryptProtectData / CryptUnprotectData) that provide operating system-level data protection services to user and system processes.\n",
    "DPAPI initially generates a strong key called a MasterKey, which is protected by the user's password. DPAPI uses a standard cryptographic process called Password-Based Key Derivation to generate a key from the password.\n",
    "This password-derived key is then used with Triple-DES to encrypt the MasterKey, which is finally stored in the user's profile directory.\n",
    "\n",
    "When a computer is a member of a domain, DPAPI has a backup mechanism to allow unprotection of the data. When a MasterKey is generated, DPAPI talks to a Domain Controller.\n",
    "Domain Controllers have a domain-wide public/private key pair, associated solely with DPAPI. The local DPAPI client gets the Domain Controller public key from a Domain Controller by using a mutually authenticated and privacy protected RPC call. The client encrypts the MasterKey with the Domain Controller public key. It then stores this backup MasterKey along with the MasterKey protected by the user's password.\n",
    "If an adversary obtains domain admin (or equivalent) privileges, the domain backup key can be stolen and used to decrypt any domain user master key.\n",
    "Tools such as Mimikatz with the method/module lsadump::backupkeys can be used to extract the domain backup key.\n",
    "It uses the LsaOpenPolicy/LsaRetrievePrivateData API calls (instead of MS-BKRP) to retrieve the value for the G$BCKUPKEY_PREFERRED and G$BCKUPKEY_P LSA secrets.\n",
    "\n",
    "Additional reading\n",
    "* https://github.com/hunters-forge/ThreatHunter-Playbook/tree/master/docs/content/library/data_protection_api.md\n",
    "* https://github.com/hunters-forge/ThreatHunter-Playbook/tree/master/docs/content/library/lsa_policy_objects.md"
   ]
  },
  {
   "cell_type": "markdown",
   "metadata": {},
   "source": [
    "## Hypothesis\n",
    "Adversaries might be extracting the DPAPI domain backup key from my DC to be able to decrypt any domain user master key files."
   ]
  },
  {
   "cell_type": "markdown",
   "metadata": {},
   "source": [
    "## Analytics"
   ]
  },
  {
   "cell_type": "markdown",
   "metadata": {},
   "source": [
    "### Initialize Analytics Engine"
   ]
  },
  {
   "cell_type": "code",
   "execution_count": null,
   "metadata": {},
   "outputs": [],
   "source": [
    "from openhunt.mordorutils import *\n",
    "spark = get_spark()"
   ]
  },
  {
   "cell_type": "markdown",
   "metadata": {},
   "source": [
    "### Download & Process Mordor File"
   ]
  },
  {
   "cell_type": "code",
   "execution_count": null,
   "metadata": {},
   "outputs": [],
   "source": [
    "mordor_file = \"https://raw.githubusercontent.com/hunters-forge/mordor/master/datasets/small/windows/credential_access/empire_mimikatz_export_master_key.tar.gz\"\n",
    "registerMordorSQLTable(spark, mordor_file, \"mordorTable\")"
   ]
  },
  {
   "cell_type": "markdown",
   "metadata": {},
   "source": [
    "### Analytic I"
   ]
  },
  {
   "cell_type": "markdown",
   "metadata": {},
   "source": [
    "\n",
    "| FP Rate  | Log Channel | Description   |\n",
    "| :--------| :-----------| :-------------|\n",
    "| Low       | ['Security']          | Monitor for any SecretObject with the string BCKUPKEY in the ObjectName            |\n",
    "            "
   ]
  },
  {
   "cell_type": "code",
   "execution_count": null,
   "metadata": {},
   "outputs": [],
   "source": [
    "df = spark.sql(\n",
    "    '''\n",
    "SELECT `@timestamp`, computer_name, ObjectServer, ObjectType, ObjectName\n",
    "FROM mordorTable\n",
    "WHERE channel = \"Security\"\n",
    "    AND event_id = 4662\n",
    "    AND AccessMask = \"0x2\"\n",
    "    AND lower(ObjectName) LIKE \"%bckupkey%\"\n",
    "    '''\n",
    ")\n",
    "df.show(10,False)"
   ]
  },
  {
   "cell_type": "markdown",
   "metadata": {},
   "source": [
    "### Analytic II"
   ]
  },
  {
   "cell_type": "markdown",
   "metadata": {},
   "source": [
    "\n",
    "| FP Rate  | Log Channel | Description   |\n",
    "| :--------| :-----------| :-------------|\n",
    "| Low       | ['Security']          | We can get the user logon id of the user that accessed the *bckupkey* object and JOIN it with a successful logon event (4624) user logon id to find the source IP            |\n",
    "            "
   ]
  },
  {
   "cell_type": "code",
   "execution_count": null,
   "metadata": {},
   "outputs": [],
   "source": [
    "df = spark.sql(\n",
    "    '''\n",
    "SELECT o.`@timestamp`, o.computer_name, o.ObjectName, a.IpAddress\n",
    "FROM mordorTable o\n",
    "INNER JOIN (\n",
    "    SELECT computer_name,TargetUserName,TargetLogonId,IpAddress\n",
    "    FROM mordorTable\n",
    "    WHERE channel = \"Security\"\n",
    "        AND LogonType = 3\n",
    "        AND IpAddress is not null\n",
    "        AND NOT TargetUserName LIKE \"%$\"\n",
    "    ) a\n",
    "ON o.SubjectLogonId = a.TargetLogonId\n",
    "WHERE channel = \"Security\"\n",
    "    AND o.event_id = 4662\n",
    "    AND o.AccessMask = \"0x2\"\n",
    "    AND lower(o.ObjectName) LIKE \"%bckupkey%\"\n",
    "    AND o.computer_name = a.computer_name\n",
    "    '''\n",
    ")\n",
    "df.show(10,False)"
   ]
  },
  {
   "cell_type": "markdown",
   "metadata": {},
   "source": [
    "### Analytic III"
   ]
  },
  {
   "cell_type": "markdown",
   "metadata": {},
   "source": [
    "\n",
    "| FP Rate  | Log Channel | Description   |\n",
    "| :--------| :-----------| :-------------|\n",
    "| Low       | ['Security']          | Monitoring for access to the protected_storage service is very interesting to document potential DPAPI activity over the network            |\n",
    "            "
   ]
  },
  {
   "cell_type": "code",
   "execution_count": null,
   "metadata": {},
   "outputs": [],
   "source": [
    "df = spark.sql(\n",
    "    '''\n",
    "SELECT `@timestamp`, computer_name, SubjectUserName, ShareName, RelativeTargetName, AccessMask, IpAddress\n",
    "FROM mordorTable\n",
    "WHERE channel = \"Security\"\n",
    "    AND event_id = 5145\n",
    "    AND ShareName LIKE \"%IPC%\"\n",
    "    AND RelativeTargetName = \"protected_storage\"\n",
    "    '''\n",
    ")\n",
    "df.show(10,False)"
   ]
  },
  {
   "cell_type": "markdown",
   "metadata": {},
   "source": [
    "### Analytic IV"
   ]
  },
  {
   "cell_type": "markdown",
   "metadata": {},
   "source": [
    "\n",
    "| FP Rate  | Log Channel | Description   |\n",
    "| :--------| :-----------| :-------------|\n",
    "| Low       | ['Security']          | This event generates every time that a backup is attempted for the DPAPI Master Key. When a computer is a member of a domain, DPAPI has a backup mechanism to allow unprotection of the data. When a Master Key is generated, DPAPI communicates with a domain controller.            |\n",
    "            "
   ]
  },
  {
   "cell_type": "code",
   "execution_count": null,
   "metadata": {},
   "outputs": [],
   "source": [
    "df = spark.sql(\n",
    "    '''\n",
    "SELECT `@timestamp`, computer_name, SubjectUserName, MasterKeyId, RecoveryKeyId\n",
    "FROM mordorTable\n",
    "WHERE channel = \"Security\"\n",
    "    AND event_id = 4692\n",
    "    '''\n",
    ")\n",
    "df.show(10,False)"
   ]
  },
  {
   "cell_type": "markdown",
   "metadata": {},
   "source": [
    "## Detection Blindspots\n"
   ]
  },
  {
   "cell_type": "markdown",
   "metadata": {},
   "source": [
    "## Hunter Notes\n",
    "* Backup key can be displayed as base64 blob or exported as a .pvk file on disk (Mimikatz-like)\n",
    "* Windows security event 4692 (Backup of data protection master key was attempted) also generates every time a new DPAPI Master Key is generated\n",
    "* When a computer is a member of a domain, DPAPI has a backup mechanism to allow unprotection of the data. When a Master Key is generated, DPAPI communicates with a domain controller."
   ]
  },
  {
   "cell_type": "markdown",
   "metadata": {},
   "source": [
    "## Hunt Output\n",
    "\n",
    "| Category | Type | Name     |\n",
    "| :--------| :----| :--------|\n",
    "| signature | SIGMA | [win_dpapi_domain_backupkey_extraction](https://github.com/hunters-forge/ThreatHunter-Playbook/tree/master/signatures/sigma/win_dpapi_domain_backupkey_extraction.yml) |\n",
    "| signature | SIGMA | [win_protected_storage_service_access](https://github.com/hunters-forge/ThreatHunter-Playbook/tree/master/signatures/sigma/win_protected_storage_service_access.yml) |\n",
    "| signature | SIGMA | [win_dpapi_domain_masterkey_backup_attempt](https://github.com/hunters-forge/ThreatHunter-Playbook/tree/master/signatures/sigma/win_dpapi_domain_masterkey_backup_attempt.yml) |"
   ]
  },
  {
   "cell_type": "markdown",
   "metadata": {},
   "source": [
    "## References\n",
    "* https://www.harmj0y.net/blog/redteaming/operational-guidance-for-offensive-user-dpapi-abuse/\n",
    "* https://digital-forensics.sans.org/summit-archives/dfirprague14/Give_Me_the_Password_and_Ill_Rule_the_World_Francesco_Picasso.pdf\n",
    "* https://docs.microsoft.com/en-us/windows/desktop/devnotes/pstore\n",
    "* https://github.com/gentilkiwi/mimikatz/blob/641a3b29acd326d07269300d94dceafea041f760/mimikatz/modules/kuhl_m_lsadump.c#L1907\n",
    "* https://github.com/GhostPack/SharpDPAPI/blob/6388040a92e59fc0d5a82b4ec31599aa6778fd3b/SharpDPAPI/lib/Backup.cs#L43\n",
    "* https://github.com/gentilkiwi/mimikatz/blob/641a3b29acd326d07269300d94dceafea041f760/mimikatz/modules/kuhl_m_lsadump.c#L1906-L1926\n",
    "* https://github.com/gentilkiwi/mimikatz/blob/641a3b29acd326d07269300d94dceafea041f760/mimikatz/modules/kuhl_m_lsadump.c#L1758\n",
    "* https://docs.microsoft.com/en-us/openspecs/windows_protocols/ms-lsad/88c6bd18-6c40-4a82-ae19-fe7bfec5108b"
   ]
  }
 ],
 "metadata": {},
 "nbformat": 4,
 "nbformat_minor": 2
}
